{
 "cells": [
  {
   "cell_type": "markdown",
   "metadata": {},
   "source": [
    "## Титаник\n",
    "\n",
    "10 апреля 1912 года «Титаник» отправился из Саутгемптона в свой первый и единственный рейс. Совершив остановки во французском Шербуре и ирландском Квинстауне, корабль вышел в Атлантический океан с 1317 пассажирами и 908 членами экипажа на борту. 15 апреля корабль потерпел затонул, при этом погибло 1502 из 2224 находившихся на борту людей.\n",
    "\n",
    "Одной из причин большого количества жертв был тот факт, что спасательных шлюпок не хватало на всех пассажиров и членов команды.  Конечно, в спасении присутствовал некоторый элемент удачи, но некоторые группы пассажиров имели больше шансов - например женщины, дети или первый класс.\n",
    "\n",
    "В данном задании предполагается написание программы для предсказания того, кто из пассажиров переживет трагедию.\n",
    "\n",
    "\n",
    "\n",
    "\n",
    "### Цель задания:\n",
    "Рассмотреть графический анализ предоставленных данных, сделать выводы и улучшить предоставленный базовый вариант предсказателя(написать свой).\n",
    "\n",
    "#### В этом ноутбуке находятся полезные примеры того, как можно и нужно обращаться с данными.\n",
    "*   Загрузка данных с помощью Pandas\n",
    "*   Очистка зашумленных данных\n",
    "*   Исследование данных и построение графиков с инструментом MatPlotLib\n",
    "\n",
    "#### Примеры использования библиотек:\n",
    "* [NumPy](http://www.numpy.org/)\n",
    "* [Pandas](http://pandas.pydata.org/)\n",
    "* [Matplotlib](http://matplotlib.org/)\n",
    "\n",
    "*весь код, который уже есть в ноутбуке рекомендуется разобрать(что и как он делает) и использовать в дальнейшем*"
   ]
  },
  {
   "cell_type": "code",
   "execution_count": null,
   "metadata": {
    "collapsed": false
   },
   "outputs": [],
   "source": [
    "import matplotlib.pyplot as plt\n",
    "%matplotlib inline\n",
    "import numpy as np\n",
    "import pandas as pd\n",
    "from pandas import Series, DataFrame\n",
    "import seaborn"
   ]
  },
  {
   "cell_type": "markdown",
   "metadata": {},
   "source": [
    "### Загрузка данных\n",
    "#### Прочтем наши данные с помощью pandas:"
   ]
  },
  {
   "cell_type": "code",
   "execution_count": null,
   "metadata": {
    "collapsed": false
   },
   "outputs": [],
   "source": [
    "df = pd.read_csv('train.csv') "
   ]
  },
  {
   "cell_type": "markdown",
   "metadata": {},
   "source": [
    "Рассмотрим данные: "
   ]
  },
  {
   "cell_type": "code",
   "execution_count": null,
   "metadata": {
    "collapsed": false,
    "scrolled": true
   },
   "outputs": [],
   "source": [
    "df"
   ]
  },
  {
   "cell_type": "code",
   "execution_count": null,
   "metadata": {
    "collapsed": false,
    "scrolled": true
   },
   "outputs": [],
   "source": [
    "df.head()"
   ]
  },
  {
   "cell_type": "code",
   "execution_count": null,
   "metadata": {
    "collapsed": false
   },
   "outputs": [],
   "source": [
    "df.describe()"
   ]
  },
  {
   "cell_type": "markdown",
   "metadata": {},
   "source": [
    "### Давайте взглянем на данные:\n",
    "\n",
    "Чуть выше результат работы функции, которая описывает данные в`Pandas` `DataFrame`. О `DataFrame` правильно будет думать как о продвинутой версии таблицы из Excel внутри Python. Как видим, в сводках содержится довольно много информации. Во-первых, у нас есть 891 запись о пассажирах.\n",
    "\n",
    "Еще у нас есть информация о всех столбцах в `DataFrame`. Каждый столбец говорит нам что-либо о каждом пассажире, например их `name`(имя), `sex`(пол) или `age`(возраст). Эти столбцы называются признаками(features) нашего набора данных(dataset).\n",
    "\n",
    "Для каждого столбца есть информация о том, сколько  значение он содержит. Большинство наших признаков содержат данных для кажого наблюдения(пассажира), например признак `survived`: \n",
    "\n",
    "    survived    891  non-null values \n",
    "\n",
    "В некоторых признаках не достает информации, например `age`(возраст): \n",
    "\n",
    "    age         714  non-null values \n",
    "\n",
    "В случае, если для наблюдения нет данных, в столбце будет стоять `NaN`(Not a Number).\n",
    "\n",
    "### Один из способов позаботиться о неполных данных:\n",
    "В признаках `ticket` и `cabin` есть множество неполных данных, поэтому скорее всего они не привнесут новой информации для анализа данных. Поэтому мы просто удалим их из нашего набора данных.\n",
    "\n",
    "Удалить столбец можно с помощью одной строчки кода:\n",
    "\n",
    "    df = df.drop(['ticket','cabin'], axis=1) \n",
    "\n",
    "axis=1 означает, что удалять нужно столбцы.\n",
    "\n",
    "А вот эта строчка кода удалит все оставшиеся строки с пропущенными значениями:\n",
    "   \n",
    "    df = df.dropna()\n",
    "     \n",
    "Итак, мы удаляем столбцы, после этого удаляем строки с пропущенными значениями(их осталось не много) и получаем чистый и аккуратный набор данных, подготовленный к анализу. Из-за того, что `.dropna()` удаляет  строку из данных даже если в ней есть хотя бы 1 `NaN` в признаках, мы бы удалили почти весь набор данных без предварительного удаления столбцов `ticket` и `cabin`.\n",
    "\n"
   ]
  },
  {
   "cell_type": "code",
   "execution_count": null,
   "metadata": {
    "collapsed": false
   },
   "outputs": [],
   "source": [
    "df = df.drop(['Ticket','Cabin'], axis=1)\n",
    "# Удалим NaN\n",
    "df = df.dropna() "
   ]
  },
  {
   "cell_type": "markdown",
   "metadata": {},
   "source": [
    "Лучшее описание pandas вот эта книга [book](http://shop.oreilly.com/product/0636920023784.do). Интерактивные уроки [here](https://bitbucket.org/hrojas/learn-pandas) (бесплатно!)."
   ]
  },
  {
   "cell_type": "markdown",
   "metadata": {},
   "source": [
    "Второй вариант - отметить пропущенные значения отдельным признаком."
   ]
  },
  {
   "cell_type": "code",
   "execution_count": null,
   "metadata": {
    "collapsed": false
   },
   "outputs": [],
   "source": [
    "df[\"Null_Age\"] = df.Age.isnull()\n",
    "df[\"Null_Age\"] = df[\"Null_Age\"].astype('int')\n",
    "df.Age.fillna(-1, inplace=True)"
   ]
  },
  {
   "cell_type": "markdown",
   "metadata": {},
   "source": [
    "### Отобразим наши данные:"
   ]
  },
  {
   "cell_type": "markdown",
   "metadata": {},
   "source": [
    "Тут мы используем библиотеку `matplotlib` с возможностями которой будем знакомиться по мере необходимости в них."
   ]
  },
  {
   "cell_type": "code",
   "execution_count": null,
   "metadata": {
    "collapsed": false
   },
   "outputs": [],
   "source": [
    "# Параметры нашего графика\n",
    "fig = plt.figure(figsize=(18,6), dpi=1600) \n",
    "alpha=alpha_scatterplot = 0.2 \n",
    "alpha_bar_chart = 0.55\n",
    "\n",
    "# А нарисуем мы несколько разных графиков вместе\n",
    "ax1 = plt.subplot2grid((2,3),(0,0))\n",
    "\n",
    "# Рисуем график со столбцами по выжившим и погибшим\n",
    "df.Survived.value_counts().plot(kind='bar', alpha=alpha_bar_chart)\n",
    "\n",
    "ax1.set_xlim(-1, 2)\n",
    "# и заголовок\n",
    "plt.title(\"Hfcg, (1 = Survived)\")    \n",
    "\n",
    "plt.subplot2grid((2,3),(0,1))\n",
    "\n",
    "plt.scatter(df.Survived, df.Age, alpha=alpha_scatterplot)\n",
    "\n",
    "# подпишем ось Y\n",
    "plt.ylabel(\"Age\")\n",
    "# выведем на заднем фоне графика сеточку\n",
    "plt.grid(b=True, which='major', axis='y')  \n",
    "plt.title(\"Survival by Age,  (1 = Survived)\")\n",
    "\n",
    "ax3 = plt.subplot2grid((2,3),(0,2))\n",
    "df.Pclass.value_counts().plot(kind=\"barh\", alpha=alpha_bar_chart)\n",
    "ax3.set_ylim(-1, len(df.Pclass.value_counts()))\n",
    "plt.title(\"Class Distribution\")\n",
    "\n",
    "plt.subplot2grid((2,3),(1,0), colspan=2)\n",
    "# выведем 3 линии - распределение возрастов внутри классов\n",
    "df.Age[df.Pclass == 1].plot(kind='kde')    \n",
    "df.Age[df.Pclass == 2].plot(kind='kde')\n",
    "df.Age[df.Pclass == 3].plot(kind='kde')\n",
    " # опять подпишем ось\n",
    "plt.xlabel(\"Age\")    \n",
    "plt.title(\"Age Distribution within classes\")\n",
    "# sets our legend for our graph.\n",
    "plt.legend(('1st Class', '2nd Class','3rd Class'),loc='best') \n",
    "\n",
    "ax5 = plt.subplot2grid((2,3),(1,2))\n",
    "df.Embarked.value_counts().plot(kind='bar', alpha=alpha_bar_chart)\n",
    "ax5.set_xlim(-1, len(df.Embarked.value_counts()))\n",
    "plt.title(\"Passengers per boarding location\")"
   ]
  },
  {
   "cell_type": "markdown",
   "metadata": {},
   "source": [
    "### Визуализация данных:\n",
    "\n",
    "Цель состоит в том, чтобы предсказать, выживет ли человек по набору исходных данных о нем.\n",
    " \n",
    "Давайте посмотрим, сможем ли мы понять лучше возможные зависимости в данных. \n",
    "\n",
    "Для начала построим график по погибшим и выжившим.\n"
   ]
  },
  {
   "cell_type": "code",
   "execution_count": null,
   "metadata": {
    "collapsed": false
   },
   "outputs": [],
   "source": [
    "plt.figure(figsize=(6,4))\n",
    "fig, ax = plt.subplots()\n",
    "df.Survived.value_counts().plot(kind='barh', color=\"blue\", alpha=.65)\n",
    "ax.set_ylim(-1, len(df.Survived.value_counts())) \n",
    "plt.title(\"Survival Breakdown (1 = Survived, 0 = Died)\")"
   ]
  },
  {
   "cell_type": "markdown",
   "metadata": {},
   "source": [
    "### Извлечем больше информации из данных,\n",
    "### Разобьем предыдущий график еще и по полу\n"
   ]
  },
  {
   "cell_type": "code",
   "execution_count": null,
   "metadata": {
    "collapsed": false
   },
   "outputs": [],
   "source": [
    "fig = plt.figure(figsize=(18,6))\n",
    "\n",
    "#Создаем график с двумя подмножествами для женщин и мужчин по выживаемости.\n",
    "#После этого мы вызываем метод value_counts() который подсчитывает количество разных значений в столбце. \n",
    "#'barh' это всего лишь график горизонтально расположенных столбцов\n",
    "df_male = df.Survived[df.Sex == 'male'].value_counts().sort_index()\n",
    "df_female = df.Survived[df.Sex == 'female'].value_counts().sort_index()\n",
    "\n",
    "ax1 = fig.add_subplot(121)\n",
    "df_male.plot(kind='barh',label='Male', alpha=0.55)\n",
    "df_female.plot(kind='barh', color='#FA2379',label='Female', alpha=0.55)\n",
    "plt.title(\"Who Survived? with respect to Gender, (raw value counts) \"); plt.legend(loc='best')\n",
    "ax1.set_ylim(-1, 2) \n",
    "\n",
    "#подкрутить график для отображения пропорций выживших\n",
    "ax2 = fig.add_subplot(122)\n",
    "(df_male/float(df_male.sum())).plot(kind='barh',label='Male', alpha=0.55)  \n",
    "(df_female/float(df_female.sum())).plot(kind='barh', color='#FA2379',label='Female', alpha=0.55)\n",
    "plt.title(\"Who Survived proportionally? with respect to Gender\"); plt.legend(loc='best')\n",
    "\n",
    "ax2.set_ylim(-1, 2)"
   ]
  },
  {
   "cell_type": "markdown",
   "metadata": {},
   "source": [
    "Тут видно, что не смотря на то, что больше мужчин выжило в абсолютном значении, пропорция выживших женщин выше(~25% против ~20%)\n",
    "\n",
    "#### Отлично:\n",
    "Возможно мы можем узнать больше, рассматривая столбец Pclass. Здесь мы объединим 1 и 2 класс и отдельно оставим третий."
   ]
  },
  {
   "cell_type": "code",
   "execution_count": null,
   "metadata": {
    "collapsed": false
   },
   "outputs": [],
   "source": [
    "fig = plt.figure(figsize=(18,4), dpi=1600)\n",
    "alpha_level = 0.65\n",
    "\n",
    "# Возьмем код из предыдущих ячеек\n",
    "# Да, это довольно много дополнительных столбцов, но в итоге мы опять вызоем\n",
    "# value_counts() - так гораздо легче выводить графики.\n",
    "# 1 и 2 класс, женщины\n",
    "ax1=fig.add_subplot(141)\n",
    "female_highclass = df.Survived[df.Sex == 'female'][df.Pclass != 3].value_counts()\n",
    "female_highclass.plot(kind='bar', label='female, highclass', color='#FA2479', alpha=alpha_level)\n",
    "ax1.set_xticklabels([\"Survived\", \"Died\"], rotation=0)\n",
    "ax1.set_xlim(-1, len(female_highclass))\n",
    "plt.title(\"Who Survived? with respect to Gender and Class\"); plt.legend(loc='best')\n",
    "# 3 класс, женщины\n",
    "ax2=fig.add_subplot(142, sharey=ax1)\n",
    "female_lowclass = df.Survived[df.Sex == 'female'][df.Pclass == 3].value_counts()\n",
    "female_lowclass.plot(kind='bar', label='female, low class', color='pink', alpha=alpha_level)\n",
    "ax2.set_xticklabels([\"Died\",\"Survived\"], rotation=0)\n",
    "ax2.set_xlim(-1, len(female_lowclass))\n",
    "plt.legend(loc='best')\n",
    "# 3 класс, мужчины\n",
    "ax3=fig.add_subplot(143, sharey=ax1)\n",
    "male_lowclass = df.Survived[df.Sex == 'male'][df.Pclass == 3].value_counts()\n",
    "male_lowclass.plot(kind='bar', label='male, low class',color='lightblue', alpha=alpha_level)\n",
    "ax3.set_xticklabels([\"Died\",\"Survived\"], rotation=0)\n",
    "ax3.set_xlim(-1, len(male_lowclass))\n",
    "plt.legend(loc='best')\n",
    "\n",
    "# 1 и 2 класс, мужчины\n",
    "ax4=fig.add_subplot(144, sharey=ax1)\n",
    "male_highclass = df.Survived[df.Sex == 'male'][df.Pclass != 3].value_counts()\n",
    "male_highclass.plot(kind='bar', label='male, highclass', alpha=alpha_level, color='steelblue')\n",
    "ax4.set_xticklabels([\"Died\",\"Survived\"], rotation=0)\n",
    "ax4.set_xlim(-1, len(male_highclass))\n",
    "plt.legend(loc='best')"
   ]
  },
  {
   "cell_type": "markdown",
   "metadata": {},
   "source": [
    "Отлично, мы получили еще больше информации о том, кто выжил, а кто погиб в катастрофе. С этим знанием мы можем полнее описать модель по данным.  _Это вообще обычный процесс интерактивного анализа данных_. Начиная с понимания основных взаимосвязей в данных и постепенно анализируя их вы понимаете всё больше и больше. "
   ]
  },
  {
   "cell_type": "markdown",
   "metadata": {},
   "source": [
    "### 1. Попробуем построить графики"
   ]
  },
  {
   "cell_type": "markdown",
   "metadata": {},
   "source": [
    "Для начала - гистограмма по возрасту."
   ]
  },
  {
   "cell_type": "code",
   "execution_count": null,
   "metadata": {
    "collapsed": false,
    "scrolled": true
   },
   "outputs": [],
   "source": [
    "df.Age.hist()"
   ]
  },
  {
   "cell_type": "markdown",
   "metadata": {},
   "source": [
    "И отдельно для мужчин и женщин."
   ]
  },
  {
   "cell_type": "code",
   "execution_count": null,
   "metadata": {
    "collapsed": false
   },
   "outputs": [],
   "source": [
    "df.Age[df.Sex=='male'].hist()\n",
    "df.Age[df.Sex=='female'].hist()"
   ]
  },
  {
   "cell_type": "markdown",
   "metadata": {},
   "source": [
    "Очевидно, людей в данной выборке можно разделить на 3 возрастные категории - условно дети(1), пожилые люди(3) и все остальные - среднего возраста(2).\n",
    "Напишите функцию, которая сделает это. Сохраните эти категории в новый столбец AgeClass."
   ]
  },
  {
   "cell_type": "markdown",
   "metadata": {
    "collapsed": true
   },
   "source": [
    "Построим гистограмму распределения стоимости билетов."
   ]
  },
  {
   "cell_type": "code",
   "execution_count": null,
   "metadata": {
    "collapsed": false
   },
   "outputs": [],
   "source": [
    "plt.hist(df.Fare, bins=5)\n",
    "plt.title(\"Fare distribution\")\n",
    "plt.show()"
   ]
  },
  {
   "cell_type": "markdown",
   "metadata": {},
   "source": [
    "### 2. Классификатор"
   ]
  },
  {
   "cell_type": "markdown",
   "metadata": {},
   "source": [
    "Здесь мы представим вам самый простой классификатор. Этот классификатор по вектору признаков(т.е. по вектору на основе столбцов нашей таблицы за исключением целевого столбца survived) должен предсказать, выживет ли человек.\n",
    "Новые данные для классификатора - это в общем-то такие же данные, как и в обучающей выборке, но для них не указано целевое значение Y(вспомните формальную постановку задачи машинного обучения)."
   ]
  },
  {
   "cell_type": "markdown",
   "metadata": {},
   "source": [
    "Наш простейший классификатор предполагает, что женщины спасаются, а мужчины - нет, поэтому для всех женщин мы присваиваем 1, а для мужчин - 0 "
   ]
  },
  {
   "cell_type": "code",
   "execution_count": null,
   "metadata": {
    "collapsed": false
   },
   "outputs": [],
   "source": [
    "def Classify(data):\n",
    "    data['Survived_pred'] = 0 # data['Sex'] == 'female'\n",
    "    for idx, row in data.iterrows():        \n",
    "        if row['Sex'] == 'female':\n",
    "            #\n",
    "    return data"
   ]
  },
  {
   "cell_type": "markdown",
   "metadata": {},
   "source": [
    "Здесь мы предполагаем, что в нашу функцию передают таблицу и через метод iterrows перебираем строки этой таблицы.\n",
    "Первая строка функции создает столбец Survived_pred, в который мы будем записывать свои предсказания.\n",
    "Метод дает для перебора кортеж(упорядоченное множество), где первый элемент индекс(idx в нашем случае), а второй элемент - row - сама строка.\n",
    "Через метод .loc и индексирующие квадратные скобки мы можем присвоить значение определенной ячейке. Первый индекс через запятую - строка, второй индекс - столбец(можно писать как имя столбца, так и порядковый номер)."
   ]
  },
  {
   "cell_type": "code",
   "execution_count": null,
   "metadata": {
    "collapsed": true
   },
   "outputs": [],
   "source": [
    "test_df = pd.read_csv('test.csv')"
   ]
  },
  {
   "cell_type": "code",
   "execution_count": null,
   "metadata": {
    "collapsed": false
   },
   "outputs": [],
   "source": [
    "test_df.head()"
   ]
  },
  {
   "cell_type": "code",
   "execution_count": null,
   "metadata": {
    "collapsed": true
   },
   "outputs": [],
   "source": [
    "test_df[\"Survived\"] = 0"
   ]
  },
  {
   "cell_type": "code",
   "execution_count": null,
   "metadata": {
    "collapsed": true
   },
   "outputs": [],
   "source": [
    "# код"
   ]
  },
  {
   "cell_type": "code",
   "execution_count": null,
   "metadata": {
    "collapsed": true
   },
   "outputs": [],
   "source": [
    "test_df.to_csv('ans.csv',index=False)"
   ]
  }
 ],
 "metadata": {
  "kernelspec": {
   "display_name": "Python 3",
   "language": "python",
   "name": "python3"
  },
  "language_info": {
   "codemirror_mode": {
    "name": "ipython",
    "version": 3
   },
   "file_extension": ".py",
   "mimetype": "text/x-python",
   "name": "python",
   "nbconvert_exporter": "python",
   "pygments_lexer": "ipython3",
   "version": "3.4.3"
  }
 },
 "nbformat": 4,
 "nbformat_minor": 0
}
