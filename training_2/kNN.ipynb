{
 "cells": [
  {
   "cell_type": "code",
   "execution_count": null,
   "metadata": {
    "collapsed": true
   },
   "outputs": [],
   "source": [
    "import numpy as np\n",
    "import pandas as pd\n",
    "import matplotlib.pyplot as plt\n",
    "%matplotlib inline"
   ]
  },
  {
   "cell_type": "markdown",
   "metadata": {},
   "source": [
    "# Метод ближайших соседей"
   ]
  },
  {
   "cell_type": "markdown",
   "metadata": {},
   "source": [
    "Задачи классификации и регрессии:  \n",
    "$X - объекты, Y - ответы$  \n",
    "$X^\\ell = (x_i, y_i)^l_{i=1}$ - обучающая выборка"
   ]
  },
  {
   "cell_type": "markdown",
   "metadata": {},
   "source": [
    "---\n",
    "**Гипотеза компактности:** близкие объекты как правило лежат в одном классе.  \n",
    "---\n",
    "**Гипотеза непрерывности:** близким объектам как правило соответствуют близкие ответы.\n",
    "---\n",
    "---"
   ]
  },
  {
   "cell_type": "markdown",
   "metadata": {},
   "source": [
    "**Формализация понятия \"близости\":  **\n",
    "\n",
    "Задана функция расстояния $\\rho:X\\times X -> [0, \\inf)$\n",
    "\n",
    "*Пример - Евклидово расстояние:*  \n",
    "    $\\rho(x, x_i) = \\left(\\sum^{n}_{j=1}\\left|x^j - x^j_i \\right|^2\\right)^{1/2}$"
   ]
  },
  {
   "cell_type": "code",
   "execution_count": null,
   "metadata": {
    "collapsed": true
   },
   "outputs": [],
   "source": [
    "from sklearn.neighbors import KNeighborsClassifier as kNN"
   ]
  },
  {
   "cell_type": "code",
   "execution_count": null,
   "metadata": {
    "collapsed": true
   },
   "outputs": [],
   "source": [
    "from sklearn import datasets\n",
    "iris = datasets.load_iris()\n",
    "X = iris.data[:, :2]\n",
    "y = iris.target"
   ]
  },
  {
   "cell_type": "code",
   "execution_count": null,
   "metadata": {
    "collapsed": false
   },
   "outputs": [],
   "source": [
    "plt.figure(figsize=(10,10))\n",
    "plt.scatter(X[:,0], X[:,1], c = y)\n",
    "plt.show()"
   ]
  },
  {
   "cell_type": "markdown",
   "metadata": {},
   "source": [
    "## Общая идея классификатора\n",
    "\n",
    "Для каждого нового объекта $x$ отсортируем тренировочную выборку $(x_1,...,x_n)$ по степени удаления от него: \n",
    "$\\rho(x,x^1) \\le \\rho(x,x^2)\\le...  \n",
    "\n",
    "\n",
    "**Метрический классификатор:**\n",
    "---\n",
    "$$a(x;X^\\ell) = argmax_{y \\in Y}\\sum^{\\ell}_{i=1}[y^i=y]w(i,x)$$"
   ]
  },
  {
   "cell_type": "markdown",
   "metadata": {},
   "source": [
    "## Метод ближайшего соседа"
   ]
  },
  {
   "cell_type": "markdown",
   "metadata": {},
   "source": [
    "$$w(i,x) = [i=1]$$  \n",
    "Будем определять класс нового объекта по ближайшему примеру из обучающего множества."
   ]
  },
  {
   "cell_type": "markdown",
   "metadata": {},
   "source": [
    "И используем реализованный в sklearn алгоритм [KNeighborsClassifier](http://scikit-learn.org/stable/modules/generated/sklearn.neighbors.KNeighborsClassifier.html)"
   ]
  },
  {
   "cell_type": "code",
   "execution_count": null,
   "metadata": {
    "collapsed": false
   },
   "outputs": [],
   "source": [
    "clf = kNN(n_neighbors=1)\n",
    "clf.fit(X,y)\n",
    "print(clf)"
   ]
  },
  {
   "cell_type": "code",
   "execution_count": null,
   "metadata": {
    "collapsed": false
   },
   "outputs": [],
   "source": [
    "clf.predict([[4,4], [5,2], [10,5]])"
   ]
  },
  {
   "cell_type": "code",
   "execution_count": null,
   "metadata": {
    "collapsed": true
   },
   "outputs": [],
   "source": [
    "def get_grid(data, border = 1, step = 0.1):\n",
    "    x_min, x_max = data[:,0].min()-border, data[:,0].max()+border\n",
    "    y_min, y_max = data[:,1].min()-border, data[:,1].max()+border\n",
    "    return np.meshgrid(np.arange(x_min,x_max, step),\n",
    "                      np.arange(y_min, y_max, step))"
   ]
  },
  {
   "cell_type": "code",
   "execution_count": null,
   "metadata": {
    "collapsed": false,
    "scrolled": true
   },
   "outputs": [],
   "source": [
    "plt.figure(figsize=(10,10))\n",
    "xx,yy = get_grid(X)\n",
    "predicted = clf.predict(np.c_[xx.ravel(),yy.ravel()]).reshape(xx.shape)\n",
    "plt.pcolormesh(xx,yy, predicted,cmap=\"bwr\")\n",
    "plt.scatter(X[:,0],X[:,1],c=y,s=100, cmap='bwr')\n",
    "plt.show()"
   ]
  },
  {
   "cell_type": "code",
   "execution_count": null,
   "metadata": {
    "collapsed": false
   },
   "outputs": [],
   "source": [
    "clf = kNN(n_neighbors=3)"
   ]
  },
  {
   "cell_type": "code",
   "execution_count": null,
   "metadata": {
    "collapsed": false
   },
   "outputs": [],
   "source": [
    "clf.fit(X,y)"
   ]
  },
  {
   "cell_type": "code",
   "execution_count": null,
   "metadata": {
    "collapsed": false
   },
   "outputs": [],
   "source": [
    "np.argmax(clf.predict_proba([[5,1]]))"
   ]
  },
  {
   "cell_type": "code",
   "execution_count": null,
   "metadata": {
    "collapsed": true
   },
   "outputs": [],
   "source": []
  },
  {
   "cell_type": "code",
   "execution_count": null,
   "metadata": {
    "collapsed": true
   },
   "outputs": [],
   "source": [
    "def plot_model(X,y, clf):\n",
    "    clf.fit(X,y)\n",
    "    xx,yy = get_grid(X)\n",
    "    predicted = clf.predict(np.c_[xx.ravel(),yy.ravel()]).reshape(xx.shape)\n",
    "    plt.pcolormesh(xx,yy, predicted, cmap=\"bwr\")\n",
    "    plt.scatter(X[:,0],X[:,1],c=y,s=100, cmap=\"bwr\")"
   ]
  },
  {
   "cell_type": "markdown",
   "metadata": {},
   "source": [
    "Возможно дело в количестве учитываемых соседей?\n",
    "Попробуем настроить параметр."
   ]
  },
  {
   "cell_type": "code",
   "execution_count": null,
   "metadata": {
    "collapsed": false
   },
   "outputs": [],
   "source": [
    "for n_neighbors in [1,2,4,20]:\n",
    "    plt.figure(figsize=(12,12))\n",
    "    plot_model(X,y, kNN(n_neighbors=n_neighbors))"
   ]
  },
  {
   "cell_type": "markdown",
   "metadata": {
    "collapsed": true
   },
   "source": [
    "### Как выбрать оптимальное число соседей?\n",
    "\n",
    "Разбиваем данные на 2 части - обучающую и контрольную выборки.  \n",
    "<img src='holdout.png'/>"
   ]
  },
  {
   "cell_type": "code",
   "execution_count": null,
   "metadata": {
    "collapsed": true
   },
   "outputs": [],
   "source": [
    "from sklearn.model_selection import train_test_split\n",
    "X_train, X_test, y_train, y_test = train_test_split(X, y, test_size=0.2)"
   ]
  },
  {
   "cell_type": "code",
   "execution_count": null,
   "metadata": {
    "collapsed": false
   },
   "outputs": [],
   "source": [
    "from sklearn.metrics import accuracy_score\n",
    "accuracy_score(y_test, kNN(n_neighbors=3).fit(X_train, y_train).predict(X_test))"
   ]
  },
  {
   "cell_type": "code",
   "execution_count": null,
   "metadata": {
    "collapsed": false
   },
   "outputs": [],
   "source": [
    "n = 100\n",
    "scores = []\n",
    "for k in range(1, n):\n",
    "    scores.append(accuracy_score(y_test, kNN(n_neighbors=k).fit(X_train, y_train).predict(X_test)))"
   ]
  },
  {
   "cell_type": "code",
   "execution_count": null,
   "metadata": {
    "collapsed": false
   },
   "outputs": [],
   "source": [
    "plt.figure(figsize=(18, 8))\n",
    "plt.plot(range(1, n), scores)\n",
    "plt.xlim(1, n)\n",
    "plt.ylim(np.min(scores) - 0.1, 1)\n",
    "plt.xticks(np.arange(1, n, 2))\n",
    "plt.xlabel('Number of nearest neighbours')\n",
    "plt.ylabel('Accuracy score')\n",
    "plt.show()"
   ]
  },
  {
   "cell_type": "markdown",
   "metadata": {},
   "source": [
    "**Какие параметры еще можно настроить?**  \n",
    "1. Веса соседей(параметр weights объекта)\n",
    "2. Метрику - metric"
   ]
  },
  {
   "cell_type": "markdown",
   "metadata": {},
   "source": [
    "## Пример правильного обращения с признаками"
   ]
  },
  {
   "cell_type": "markdown",
   "metadata": {},
   "source": [
    "Набор данных по классификации вин. Описание [тут](http://archive.ics.uci.edu/ml/datasets/Wine+Quality)"
   ]
  },
  {
   "cell_type": "code",
   "execution_count": null,
   "metadata": {
    "collapsed": false
   },
   "outputs": [],
   "source": [
    "data = pd.read_csv('http://archive.ics.uci.edu/ml/machine-learning-databases/wine-quality/winequality-red.csv ' , sep = ';')"
   ]
  },
  {
   "cell_type": "code",
   "execution_count": null,
   "metadata": {
    "collapsed": false
   },
   "outputs": [],
   "source": [
    "X = data.drop('quality' , 1).values\n",
    "y = data['quality'].values\n",
    "pd.DataFrame.hist(data, figsize = [10,10]);"
   ]
  },
  {
   "cell_type": "code",
   "execution_count": null,
   "metadata": {
    "collapsed": false
   },
   "outputs": [],
   "source": [
    "data.head()"
   ]
  },
  {
   "cell_type": "code",
   "execution_count": null,
   "metadata": {
    "collapsed": false
   },
   "outputs": [],
   "source": [
    "y = data['quality'].values > 5\n",
    "X = data.drop('quality', axis=1).values"
   ]
  },
  {
   "cell_type": "markdown",
   "metadata": {},
   "source": [
    "<img src='cross_validation_diagram.png'/>"
   ]
  },
  {
   "cell_type": "code",
   "execution_count": null,
   "metadata": {
    "collapsed": true
   },
   "outputs": [],
   "source": [
    "from sklearn.model_selection import KFold\n",
    "from sklearn.model_selection import cross_val_score\n",
    "\n",
    "def cv_nn(n_neighbors, X, y):\n",
    "    average_scores = []    \n",
    "    for k in n_neighbors:\n",
    "        knn_clf = kNN(n_neighbors=k)\n",
    "        scores = cross_val_score(knn_clf, X, y)\n",
    "        average_scores.append(scores.mean())\n",
    "    return average_scores"
   ]
  },
  {
   "cell_type": "code",
   "execution_count": null,
   "metadata": {
    "collapsed": false
   },
   "outputs": [],
   "source": [
    "n_neighbors = range(1, 51)\n",
    "average_scores = cv_nn(n_neighbors, X, y)"
   ]
  },
  {
   "cell_type": "code",
   "execution_count": null,
   "metadata": {
    "collapsed": false
   },
   "outputs": [],
   "source": [
    "plt.figure(figsize=(18, 8))\n",
    "l1 = plt.plot(n_neighbors, average_scores)\n",
    "plt.xticks(n_neighbors)\n",
    "plt.xlim(np.min(n_neighbors), np.max(n_neighbors))\n",
    "plt.ylim(0, 1)\n",
    "plt.xlabel('Number of nearest neighbours')\n",
    "plt.ylabel('Accuracy score')\n",
    "plt.show()"
   ]
  },
  {
   "cell_type": "markdown",
   "metadata": {},
   "source": [
    "Отмасштабируем выборку с помощью функции scale:"
   ]
  },
  {
   "cell_type": "code",
   "execution_count": null,
   "metadata": {
    "collapsed": true
   },
   "outputs": [],
   "source": [
    "from sklearn.preprocessing import scale\n",
    "X_scaled = scale(X)\n",
    "average_scores_scaled = cv_nn(n_neighbors, X_scaled, y)"
   ]
  },
  {
   "cell_type": "markdown",
   "metadata": {},
   "source": [
    "И сравним с немасштабированной:"
   ]
  },
  {
   "cell_type": "code",
   "execution_count": null,
   "metadata": {
    "collapsed": false
   },
   "outputs": [],
   "source": [
    "plt.figure(figsize=(18, 8))\n",
    "plt.plot(n_neighbors, average_scores)\n",
    "plt.plot(n_neighbors, average_scores_scaled)\n",
    "plt.xticks(n_neighbors)\n",
    "plt.xlim(np.min(n_neighbors), np.max(n_neighbors))\n",
    "plt.ylim(0, 1)\n",
    "plt.xlabel('Number of nearest neighbours')\n",
    "plt.ylabel('Accuracy score')\n",
    "plt.legend(['Unscaled data', 'Scaled data'], loc='lower right')\n",
    "plt.show()"
   ]
  }
 ],
 "metadata": {
  "kernelspec": {
   "display_name": "Python 3",
   "language": "python",
   "name": "python3"
  },
  "language_info": {
   "codemirror_mode": {
    "name": "ipython",
    "version": 3
   },
   "file_extension": ".py",
   "mimetype": "text/x-python",
   "name": "python",
   "nbconvert_exporter": "python",
   "pygments_lexer": "ipython3",
   "version": "3.4.3"
  }
 },
 "nbformat": 4,
 "nbformat_minor": 2
}
